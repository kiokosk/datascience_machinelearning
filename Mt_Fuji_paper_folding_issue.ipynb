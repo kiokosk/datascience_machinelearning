{
 "cells": [
  {
   "cell_type": "code",
   "execution_count": 5,
   "id": "ccfeb049-f97d-4e6a-b368-c71dd2bf7525",
   "metadata": {},
   "outputs": [],
   "source": [
    "import math\n",
    "\n",
    "def min_folds_to_exceed(height, t0=0.00008):\n",
    "    \"\"\"\n",
    "    Calculate the minimum number of folds required for paper to exceed a given height.\n",
    "\n",
    "    Parameters:\n",
    "    height (float): Target height to exceed (in meters).\n",
    "    t0 (float): Initial thickness of paper (default is 0.00008m).\n",
    "\n",
    "    Returns:\n",
    "    int: Minimum number of folds needed.\n",
    "    \"\"\"\n",
    "    n = 0\n",
    "    thickness = t0\n",
    "\n",
    "    while thickness <= height:\n",
    "        thickness *= 2\n",
    "        n += 1\n",
    "    \n",
    "    return n\n",
    "\n",
    "def required_paper_length(n, t0=0.00008):\n",
    "    \"\"\"\n",
    "    Calculate the length of paper required to fold n times.\n",
    "\n",
    "    Parameters:\n",
    "    n (int): Number of folds.\n",
    "    t0 (float): Initial thickness of paper (default is 0.00008m).\n",
    "\n",
    "    Returns:\n",
    "    float: Length of the paper required (in meters).\n",
    "    \"\"\"\n",
    "    return (math.pi * t0 / 6) * (2**n + 4) * (2**n - 1)"
   ]
  },
  {
   "cell_type": "code",
   "execution_count": 6,
   "id": "593e8fb7-f97b-4b3e-8ac5-4e5a7799127e",
   "metadata": {},
   "outputs": [
    {
     "name": "stdout",
     "output_type": "stream",
     "text": [
      "Number of folds to surpass Mount Fuji: 26\n"
     ]
    }
   ],
   "source": [
    "# Question 1: Folds required to exceed Mount Fuji's height (3,776m)\n",
    "fuji_height = 3776  # in meters\n",
    "folds_fuji = min_folds_to_exceed(fuji_height)\n",
    "print(f\"Number of folds to surpass Mount Fuji: {folds_fuji}\")"
   ]
  },
  {
   "cell_type": "code",
   "execution_count": 7,
   "id": "34ed60f9-2e09-4161-bc81-469fd573cb17",
   "metadata": {},
   "outputs": [
    {
     "name": "stdout",
     "output_type": "stream",
     "text": [
      "Number of folds to reach Proxima Centauri: 69\n"
     ]
    }
   ],
   "source": [
    "\n",
    "# Question 2: Function for arbitrary thickness - Example for Proxima Centauri\n",
    "proxima_distance = 4.0175e16  # meters\n",
    "folds_proxima = min_folds_to_exceed(proxima_distance)\n",
    "print(f\"Number of folds to reach Proxima Centauri: {folds_proxima}\")"
   ]
  },
  {
   "cell_type": "code",
   "execution_count": 8,
   "id": "d5b01266-0a95-4a3f-a661-d9a925e4685d",
   "metadata": {},
   "outputs": [
    {
     "name": "stdout",
     "output_type": "stream",
     "text": [
      "Paper length needed to reach Mount Fuji: 1.89e+11 meters\n",
      "Paper length needed to reach the Moon: 3.24e+21 meters\n",
      "Paper length needed to reach Proxima Centauri: 1.46e+37 meters\n"
     ]
    }
   ],
   "source": [
    "# Question 3: Required paper length for Mount Fuji, Moon, and Proxima Centauri\n",
    "moon_distance = 384400000  # meters\n",
    "\n",
    "paper_length_fuji = required_paper_length(folds_fuji)\n",
    "paper_length_moon = required_paper_length(min_folds_to_exceed(moon_distance))\n",
    "paper_length_proxima = required_paper_length(folds_proxima)\n",
    "\n",
    "print(f\"Paper length needed to reach Mount Fuji: {paper_length_fuji:.2e} meters\")\n",
    "print(f\"Paper length needed to reach the Moon: {paper_length_moon:.2e} meters\")\n",
    "print(f\"Paper length needed to reach Proxima Centauri: {paper_length_proxima:.2e} meters\")"
   ]
  },
  {
   "cell_type": "code",
   "execution_count": null,
   "id": "186a0445-db62-41ca-9018-2f4a07f284df",
   "metadata": {},
   "outputs": [],
   "source": []
  }
 ],
 "metadata": {
  "kernelspec": {
   "display_name": "Python 3 (ipykernel)",
   "language": "python",
   "name": "python3"
  },
  "language_info": {
   "codemirror_mode": {
    "name": "ipython",
    "version": 3
   },
   "file_extension": ".py",
   "mimetype": "text/x-python",
   "name": "python",
   "nbconvert_exporter": "python",
   "pygments_lexer": "ipython3",
   "version": "3.8.10"
  }
 },
 "nbformat": 4,
 "nbformat_minor": 5
}
