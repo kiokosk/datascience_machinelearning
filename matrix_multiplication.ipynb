{
 "cells": [
  {
   "cell_type": "code",
   "execution_count": 1,
   "id": "79fb89de-4db9-4b05-a925-3b19d31ad876",
   "metadata": {},
   "outputs": [],
   "source": [
    "import numpy as np\n",
    "\n",
    "def matrix_multiplication(A, B):\n",
    "    \"\"\"Perform matrix multiplication from scratch.\"\"\"\n",
    "    if A.shape[1] != B.shape[0]:\n",
    "        print(\"Matrix multiplication is not defined for the given matrices.\")\n",
    "        return None\n",
    "    \n",
    "    result = np.zeros((A.shape[0], B.shape[1]))\n",
    "    for i in range(A.shape[0]):\n",
    "        for j in range(B.shape[1]):\n",
    "            for k in range(A.shape[1]):\n",
    "                result[i, j] += A[i, k] * B[k, j]\n",
    "    \n",
    "    return result"
   ]
  },
  {
   "cell_type": "code",
   "execution_count": 2,
   "id": "5316d649-9b13-48fc-89cd-2de82dcebac6",
   "metadata": {},
   "outputs": [],
   "source": [
    "# Problem 1: Manually compute matrix multiplication\n",
    "A = np.array([[-1, 2, 3], [4, -5, 6], [7, 8, -9]])\n",
    "B = np.array([[0, 2, 1], [0, 2, -8], [2, 9, -1]])"
   ]
  },
  {
   "cell_type": "code",
   "execution_count": 3,
   "id": "90e4a44e-cd01-4251-8457-37197c7b3e26",
   "metadata": {},
   "outputs": [],
   "source": [
    "# Problem 2: Use NumPy functions\n",
    "result_numpy_matmul = np.matmul(A, B)\n",
    "result_numpy_dot = np.dot(A, B)"
   ]
  },
  {
   "cell_type": "code",
   "execution_count": 4,
   "id": "a6a815bf-b120-4dca-8eac-8bd5a530e0d6",
   "metadata": {},
   "outputs": [],
   "source": [
    "# Problem 3: Compute one element manually\n",
    "row, col = 0, 0  # First element\n",
    "manual_element = sum(A[row, k] * B[k, col] for k in range(A.shape[1]))"
   ]
  },
  {
   "cell_type": "code",
   "execution_count": 5,
   "id": "86837831-d4b2-4f82-ba39-3b57d9194761",
   "metadata": {},
   "outputs": [],
   "source": [
    "# Problem 4: Implement full matrix multiplication from scratch\n",
    "result_scratch = matrix_multiplication(A, B)"
   ]
  },
  {
   "cell_type": "code",
   "execution_count": 6,
   "id": "a3bb235b-f425-4260-9b2d-e21b26befb61",
   "metadata": {},
   "outputs": [
    {
     "name": "stdout",
     "output_type": "stream",
     "text": [
      "Matrix multiplication is not defined for the given matrices.\n"
     ]
    }
   ],
   "source": [
    "# Problem 5: Handle invalid matrices\n",
    "D = np.array([[-1, 2, 3], [4, -5, 6]])\n",
    "E = np.array([[-9, 8, 7], [6, -5, 4]])\n",
    "matrix_multiplication(D, E)  "
   ]
  },
  {
   "cell_type": "code",
   "execution_count": 8,
   "id": "19a6a718-3291-440f-aaae-413cddf3c80a",
   "metadata": {},
   "outputs": [],
   "source": [
    "# Problem 6: Compute using transposed matrix\n",
    "E_transposed = E.T\n",
    "result_transposed = matrix_multiplication(D, E_transposed)\n",
    "\n",
    "\n"
   ]
  },
  {
   "cell_type": "code",
   "execution_count": 9,
   "id": "0f05a99e-ab0e-459e-80c5-f70cf136775a",
   "metadata": {},
   "outputs": [
    {
     "name": "stdout",
     "output_type": "stream",
     "text": [
      "NumPy matmul result:\n",
      " [[  6  29 -20]\n",
      " [ 12  52  38]\n",
      " [-18 -51 -48]]\n",
      "NumPy dot result:\n",
      " [[  6  29 -20]\n",
      " [ 12  52  38]\n",
      " [-18 -51 -48]]\n",
      "Manual calculation of one element (0,0): 6\n",
      "Scratch implementation result:\n",
      " [[  6.  29. -20.]\n",
      " [ 12.  52.  38.]\n",
      " [-18. -51. -48.]]\n",
      "Result with transposed matrix:\n",
      " [[ 46.  -4.]\n",
      " [-34.  73.]]\n"
     ]
    }
   ],
   "source": [
    "# Print results\n",
    "print(\"NumPy matmul result:\\n\", result_numpy_matmul)\n",
    "print(\"NumPy dot result:\\n\", result_numpy_dot)\n",
    "print(\"Manual calculation of one element (0,0):\", manual_element)\n",
    "print(\"Scratch implementation result:\\n\", result_scratch)\n",
    "print(\"Result with transposed matrix:\\n\", result_transposed)"
   ]
  },
  {
   "cell_type": "code",
   "execution_count": null,
   "id": "bd312916-c246-4912-ab2f-c759602eab47",
   "metadata": {},
   "outputs": [],
   "source": []
  }
 ],
 "metadata": {
  "kernelspec": {
   "display_name": "Python 3 (ipykernel)",
   "language": "python",
   "name": "python3"
  },
  "language_info": {
   "codemirror_mode": {
    "name": "ipython",
    "version": 3
   },
   "file_extension": ".py",
   "mimetype": "text/x-python",
   "name": "python",
   "nbconvert_exporter": "python",
   "pygments_lexer": "ipython3",
   "version": "3.8.10"
  }
 },
 "nbformat": 4,
 "nbformat_minor": 5
}
