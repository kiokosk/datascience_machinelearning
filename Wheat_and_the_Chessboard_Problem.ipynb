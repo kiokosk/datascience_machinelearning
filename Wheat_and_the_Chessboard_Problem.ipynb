{
 "cells": [
  {
   "cell_type": "code",
   "execution_count": 1,
   "id": "7a084fcb-37ca-4e14-b705-1adf9dacaff5",
   "metadata": {},
   "outputs": [],
   "source": [
    "import numpy as np\n",
    "import matplotlib.pyplot as plt\n",
    "\n",
    "# Question 1: The amount of wheat on a 2x2 chessboard\n",
    "def create_2x2_chessboard():\n",
    "    # Create a 2x2 chessboard with the sequence 1, 2, 4, 8\n",
    "    small_board_list = [1]\n",
    "    for _ in range(4 - 1):  # 2x2 = 4 squares\n",
    "        small_board_list.append(2 * small_board_list[-1])\n",
    "    \n",
    "    # Convert to ndarray and reshape to 2x2\n",
    "    chessboard_2x2 = np.array(small_board_list).reshape(2, 2)\n",
    "    \n",
    "    return chessboard_2x2"
   ]
  },
  {
   "cell_type": "code",
   "execution_count": 2,
   "id": "7a1db92e-45d9-4235-b743-4a80ad71ef44",
   "metadata": {},
   "outputs": [],
   "source": [
    "# Question 2: Function to create an nxm chessboard using list method\n",
    "def create_chessboard_list_method(n, m):\n",
    "    \"\"\"\n",
    "    Create an nxm chessboard with wheat placement using list method\n",
    "    \n",
    "    Parameters:\n",
    "    -----------\n",
    "    n: int\n",
    "        Number of rows\n",
    "    m: int\n",
    "        Number of columns\n",
    "        \n",
    "    Returns:\n",
    "    --------\n",
    "    chessboard: ndarray\n",
    "        nxm array with wheat values\n",
    "    \"\"\"\n",
    "    # Total number of squares\n",
    "    total_squares = n * m\n",
    "    \n",
    "    # Create a list with doubling values\n",
    "    wheat_list = [1]\n",
    "    for _ in range(total_squares - 1):\n",
    "        wheat_list.append(2 * wheat_list[-1])\n",
    "    \n",
    "    # Convert to ndarray and reshape to nxm\n",
    "    chessboard = np.array(wheat_list, dtype=np.uint64).reshape(n, m)\n",
    "    \n",
    "    return chessboard\n"
   ]
  },
  {
   "cell_type": "code",
   "execution_count": 3,
   "id": "0db2abf7-1fa5-4c71-8ad2-6898a02f4095",
   "metadata": {},
   "outputs": [],
   "source": [
    "# Question 6: Function using np.append() method\n",
    "def create_chessboard_append_method(n, m):\n",
    "    \"\"\"\n",
    "    Create an nxm chessboard with wheat placement using np.append() method\n",
    "    \n",
    "    Parameters:\n",
    "    -----------\n",
    "    n: int\n",
    "        Number of rows\n",
    "    m: int\n",
    "        Number of columns\n",
    "        \n",
    "    Returns:\n",
    "    --------\n",
    "    chessboard: ndarray\n",
    "        nxm array with wheat values\n",
    "    \"\"\"\n",
    "    # Total number of squares\n",
    "    total_squares = n * m\n",
    "    \n",
    "    # Create an ndarray and append values\n",
    "    wheat_array = np.array([1], dtype=np.uint64)\n",
    "    for _ in range(total_squares - 1):\n",
    "        wheat_array = np.append(wheat_array, 2 * wheat_array[-1])\n",
    "    \n",
    "    # Reshape to nxm\n",
    "    chessboard = wheat_array.reshape(n, m)\n",
    "    \n",
    "    return chessboard"
   ]
  },
  {
   "cell_type": "code",
   "execution_count": 4,
   "id": "baec767a-fe07-4fae-86c3-9300e6699d22",
   "metadata": {},
   "outputs": [],
   "source": [
    "# Question 6: Function using broadcasting method\n",
    "def create_chessboard_broadcast_method(n, m):\n",
    "    \"\"\"\n",
    "    Create an nxm chessboard with wheat placement using broadcasting\n",
    "    \n",
    "    Parameters:\n",
    "    -----------\n",
    "    n: int\n",
    "        Number of rows\n",
    "    m: int\n",
    "        Number of columns\n",
    "        \n",
    "    Returns:\n",
    "    --------\n",
    "    chessboard: ndarray\n",
    "        nxm array with wheat values\n",
    "    \"\"\"\n",
    "    # Total number of squares\n",
    "    total_squares = n * m\n",
    "    \n",
    "    # Create indices and calculate powers of 2 using broadcasting\n",
    "    indices = np.arange(total_squares, dtype=np.uint64)\n",
    "    wheat_array = 2 ** indices\n",
    "    \n",
    "    # Reshape to nxm\n",
    "    chessboard = wheat_array.reshape(n, m)\n",
    "    \n",
    "    return chessboard\n"
   ]
  },
  {
   "cell_type": "code",
   "execution_count": 5,
   "id": "8c13753a-057c-487e-bf20-a3e7f287133e",
   "metadata": {},
   "outputs": [],
   "source": [
    "# Solutions to all questions"
   ]
  },
  {
   "cell_type": "code",
   "execution_count": 6,
   "id": "f0f7d123-d378-4a50-861d-0de77e5c0583",
   "metadata": {},
   "outputs": [
    {
     "name": "stdout",
     "output_type": "stream",
     "text": [
      "\n",
      "Question 1: 2x2 Chessboard\n",
      "[[1 2]\n",
      " [4 8]]\n",
      "Total wheat on 2x2 chessboard: 15\n"
     ]
    }
   ],
   "source": [
    "# Question 1: 2x2 chessboard\n",
    "chessboard_2x2 = create_2x2_chessboard()\n",
    "print(\"\\nQuestion 1: 2x2 Chessboard\")\n",
    "print(chessboard_2x2)\n",
    "print(f\"Total wheat on 2x2 chessboard: {np.sum(chessboard_2x2)}\")"
   ]
  },
  {
   "cell_type": "code",
   "execution_count": 7,
   "id": "1435b831-ca66-4942-b8fa-925fdd40d494",
   "metadata": {},
   "outputs": [
    {
     "name": "stdout",
     "output_type": "stream",
     "text": [
      "\n",
      "Question 2 & 3: 8x8 Chessboard (first few rows and columns)\n",
      "[[     1      2      4]\n",
      " [   256    512   1024]\n",
      " [ 65536 131072 262144]]\n",
      "Total wheat on 8x8 chessboard: 18446744073709551615\n"
     ]
    }
   ],
   "source": [
    "# Question 2 & 3: 8x8 chessboard and total wheat\n",
    "chessboard_8x8 = create_chessboard_list_method(8, 8)\n",
    "print(\"\\nQuestion 2 & 3: 8x8 Chessboard (first few rows and columns)\")\n",
    "print(chessboard_8x8[:3, :3])  # Just showing a small portion as the full board has very large numbers\n",
    "print(f\"Total wheat on 8x8 chessboard: {np.sum(chessboard_8x8)}\")"
   ]
  },
  {
   "cell_type": "code",
   "execution_count": 8,
   "id": "22963533-02eb-4d68-b703-43bb36117a1f",
   "metadata": {},
   "outputs": [
    {
     "name": "stdout",
     "output_type": "stream",
     "text": [
      "\n",
      "Average wheat per column:\n",
      "[9.04252160e+15 1.80850432e+16 3.61700864e+16 7.23401728e+16\n",
      " 1.44680346e+17 2.89360691e+17 5.78721383e+17 1.15744277e+18]\n"
     ]
    },
    {
     "data": {
      "image/png": "[encoded data removed]",
      "text/plain": [
       "<Figure size 1200x600 with 1 Axes>"
      ]
     },
     "metadata": {},
     "output_type": "display_data"
    }
   ],
   "source": [
    "# Question 3: Average of each column and bar graph\n",
    "column_averages = np.mean(chessboard_8x8, axis=0)\n",
    "print(\"\\nAverage wheat per column:\")\n",
    "print(column_averages)\n",
    "\n",
    "plt.figure(figsize=(12, 6))\n",
    "plt.xlabel(\"Column\")\n",
    "plt.ylabel(\"Average Number of Wheat\")\n",
    "plt.title(\"Average Wheat in Each Column\")\n",
    "plt.bar(np.arange(1, 9), column_averages)\n",
    "plt.yscale('log')  # Use log scale due to exponential growth\n",
    "plt.grid(True, alpha=0.3)\n",
    "plt.savefig('wheat_column_averages.png')"
   ]
  },
  {
   "cell_type": "code",
   "execution_count": 9,
   "id": "2271ebdb-024d-4225-9365-9cc45b9cbd99",
   "metadata": {},
   "outputs": [
    {
     "data": {
      "image/png": "[encoded data removed]",
      "text/plain": [
       "<Figure size 1000x800 with 2 Axes>"
      ]
     },
     "metadata": {},
     "output_type": "display_data"
    }
   ],
   "source": [
    "# Question 4: Heatmap of wheat counts\n",
    "plt.figure(figsize=(10, 8))\n",
    "plt.xlabel(\"Column\")\n",
    "plt.ylabel(\"Row\")\n",
    "plt.title(\"Heatmap of Wheat on 8x8 Chessboard\")\n",
    "heatmap = plt.pcolor(np.log10(chessboard_8x8))  \n",
    "plt.colorbar(heatmap, label='log10(Number of Wheat)')\n",
    "plt.savefig('wheat_heatmap.png')\n"
   ]
  },
  {
   "cell_type": "code",
   "execution_count": 10,
   "id": "9033b64c-624f-4755-95af-458e61e5c95e",
   "metadata": {},
   "outputs": [
    {
     "name": "stdout",
     "output_type": "stream",
     "text": [
      "\n",
      "Question 5: First Half vs Second Half\n",
      "Total wheat in first half: 4294967295\n",
      "Total wheat in second half: 18446744069414584320\n",
      "Second half is 4294967296.0 times larger than first half\n"
     ]
    }
   ],
   "source": [
    "# Question 5: Compare first half vs second half\n",
    "first_half = chessboard_8x8[:4, :]\n",
    "second_half = chessboard_8x8[4:, :]\n",
    "first_half_total = np.sum(first_half)\n",
    "second_half_total = np.sum(second_half)\n",
    "ratio = second_half_total / first_half_total\n",
    "\n",
    "print(\"\\nQuestion 5: First Half vs Second Half\")\n",
    "print(f\"Total wheat in first half: {first_half_total}\")\n",
    "print(f\"Total wheat in second half: {second_half_total}\")\n",
    "print(f\"Second half is {ratio} times larger than first half\")"
   ]
  },
  {
   "cell_type": "code",
   "execution_count": 11,
   "id": "dd810118-da82-420b-b443-ee8bc779bdbe",
   "metadata": {},
   "outputs": [
    {
     "name": "stdout",
     "output_type": "stream",
     "text": [
      "\n",
      "Question 6: Verify different methods produce same result\n",
      "List method total: 18446744073709551615\n",
      "Append method total: 1.8446744073709552e+19\n",
      "Broadcast method total: 18446744073709551615\n"
     ]
    }
   ],
   "source": [
    "# Question 6: Create 8x8 chessboard using other methods\n",
    "chessboard_append = create_chessboard_append_method(8, 8)\n",
    "chessboard_broadcast = create_chessboard_broadcast_method(8, 8)\n",
    "\n",
    "print(\"\\nQuestion 6: Verify different methods produce same result\")\n",
    "print(f\"List method total: {np.sum(chessboard_8x8)}\")\n",
    "print(f\"Append method total: {np.sum(chessboard_append)}\")\n",
    "print(f\"Broadcast method total: {np.sum(chessboard_broadcast)}\")"
   ]
  },
  {
   "cell_type": "code",
   "execution_count": 12,
   "id": "6f529f16-8cb8-406e-ba97-5b3d7b05fed4",
   "metadata": {},
   "outputs": [
    {
     "name": "stdout",
     "output_type": "stream",
     "text": [
      "\n",
      "Question 7: Timing Comparison\n",
      "List method average time: 0.000100 seconds\n",
      "Append method average time: 0.000603 seconds\n",
      "Broadcast method average time: 0.000096 seconds\n",
      "Broadcast is 1.0x faster than list method\n",
      "Broadcast is 6.3x faster than append method\n"
     ]
    }
   ],
   "source": [
    "# Question 7: For timing comparison, use the following in Jupyter notebook:\n",
    "\"\"\"\n",
    "%%timeit\n",
    "create_chessboard_list_method(8, 8)\n",
    "\n",
    "%%timeit\n",
    "create_chessboard_append_method(8, 8)\n",
    "\n",
    "%%timeit\n",
    "create_chessboard_broadcast_method(8, 8)\n",
    "\"\"\"\n",
    "\n",
    "# Alternative timing code for non-Jupyter environments\n",
    "import time\n",
    "\n",
    "def measure_time(func, n, m, iterations=10):\n",
    "    total_time = 0\n",
    "    for _ in range(iterations):\n",
    "        start_time = time.time()\n",
    "        func(n, m)\n",
    "        end_time = time.time()\n",
    "        total_time += (end_time - start_time)\n",
    "    return total_time / iterations\n",
    "\n",
    "print(\"\\nQuestion 7: Timing Comparison\")\n",
    "list_time = measure_time(create_chessboard_list_method, 8, 8)\n",
    "append_time = measure_time(create_chessboard_append_method, 8, 8)\n",
    "broadcast_time = measure_time(create_chessboard_broadcast_method, 8, 8)\n",
    "\n",
    "print(f\"List method average time: {list_time:.6f} seconds\")\n",
    "print(f\"Append method average time: {append_time:.6f} seconds\")\n",
    "print(f\"Broadcast method average time: {broadcast_time:.6f} seconds\")\n",
    "print(f\"Broadcast is {list_time/broadcast_time:.1f}x faster than list method\")\n",
    "print(f\"Broadcast is {append_time/broadcast_time:.1f}x faster than append method\")"
   ]
  },
  {
   "cell_type": "code",
   "execution_count": null,
   "id": "90a95578-1f5b-4a5d-855b-79b22daf07f7",
   "metadata": {},
   "outputs": [],
   "source": []
  }
 ],
 "metadata": {
  "kernelspec": {
   "display_name": "Python 3 (ipykernel)",
   "language": "python",
   "name": "python3"
  },
  "language_info": {
   "codemirror_mode": {
    "name": "ipython",
    "version": 3
   },
   "file_extension": ".py",
   "mimetype": "text/x-python",
   "name": "python",
   "nbconvert_exporter": "python",
   "pygments_lexer": "ipython3",
   "version": "3.8.10"
  }
 },
 "nbformat": 4,
 "nbformat_minor": 5
}
